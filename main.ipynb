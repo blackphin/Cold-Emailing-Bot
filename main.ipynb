{
 "cells": [
  {
   "cell_type": "markdown",
   "metadata": {},
   "source": [
    "Imports"
   ]
  },
  {
   "cell_type": "code",
   "execution_count": 12,
   "metadata": {},
   "outputs": [],
   "source": [
    "import smtplib, pyautogui\n",
    "\n",
    "from time import sleep\n",
    "from math import ceil\n",
    "\n",
    "from selenium import webdriver\n",
    "from selenium.webdriver.chrome.service import Service\n",
    "from selenium.webdriver.chrome.options import Options\n",
    "from selenium.webdriver.common.by import By\n",
    "from selenium.webdriver.common.keys import Keys\n",
    "\n",
    "from webdriver_manager.chrome import ChromeDriverManager\n"
   ]
  },
  {
   "cell_type": "markdown",
   "metadata": {},
   "source": [
    "Initializations"
   ]
  },
  {
   "cell_type": "code",
   "execution_count": 13,
   "metadata": {},
   "outputs": [],
   "source": [
    "delay = 1\n",
    "\n",
    "email_address = \"ENTER EMAIL ADDRESS\"\n",
    "email_password = \"ENTER PASSWORD\"\n",
    "\n",
    "subject_file = open(\"subject.txt\", \"r\")\n",
    "subject = subject_file.read()\n",
    "\n",
    "message_file = open(\"message.txt\", \"r\")\n",
    "message = message_file.read()\n",
    "\n",
    "url = \"https://mca.gov.in/content/mca/global/en/data-and-reports/company-llp-info/incorporated-closed-month.html\"\n",
    "files_needed = 30  # set number of files to be downloaded\n"
   ]
  },
  {
   "cell_type": "markdown",
   "metadata": {},
   "source": [
    "Initialzing Web Driver"
   ]
  },
  {
   "cell_type": "code",
   "execution_count": 14,
   "metadata": {},
   "outputs": [],
   "source": [
    "options = Options()\n",
    "options.add_argument(\"start-maximized\")\n",
    "driver = webdriver.Chrome(\n",
    "    service=Service(ChromeDriverManager().install()), options=options\n",
    ")\n",
    "# pyautogui.hotkey(\"win\", \"d\")\n",
    "# pyautogui.hotkey(\"alt\", \"tab\")\n",
    "# pyautogui.hotkey(\"alt\", \"tab\")\n"
   ]
  },
  {
   "cell_type": "markdown",
   "metadata": {},
   "source": [
    "Determing files to be downloaded"
   ]
  },
  {
   "cell_type": "code",
   "execution_count": 15,
   "metadata": {},
   "outputs": [
    {
     "name": "stdout",
     "output_type": "stream",
     "text": [
      "Latest Files Avilable are of: August/2022\n"
     ]
    }
   ],
   "source": [
    "driver.get(url)\n",
    "driver.find_element(by=By.CLASS_NAME, value=\"expand-desk\").click()\n",
    "month = driver.find_element(\n",
    "    by=By.XPATH,\n",
    "    value=\"/html/body/div/div/div[2]/div/div[3]/div/div/div[2]/div[2]/div/div/table[1]/tbody/tr[2]/td/div/div/div/div/div[7]/table/tbody/tr[1]/td[2]\",\n",
    ").text\n",
    "\n",
    "year = driver.find_element(\n",
    "    by=By.XPATH,\n",
    "    value=\"/html/body/div/div/div[2]/div/div[3]/div/div/div[2]/div[2]/div/div/table[1]/tbody/tr[2]/td/div/div/div/div/div[7]/table/tbody/tr[1]/td[3]\",\n",
    ").text\n",
    "\n",
    "print(f\"Latest Files Avilable are of: {month}/{year}\")\n"
   ]
  },
  {
   "cell_type": "markdown",
   "metadata": {},
   "source": [
    "Downloading the files"
   ]
  },
  {
   "cell_type": "code",
   "execution_count": 16,
   "metadata": {},
   "outputs": [],
   "source": [
    "loops = ceil(files_needed / 5)\n",
    "counter = 0\n",
    "for loop in range(loops):\n",
    "    if loop != 0:\n",
    "        driver.find_element(by=By.CLASS_NAME, value=\"next\").click()\n",
    "    download_element_list = driver.find_elements(by=By.CLASS_NAME, value=\"doc-link\")\n",
    "    download_element_list = download_element_list[0:5]\n",
    "    for download_element in download_element_list:\n",
    "        if counter < files_needed:\n",
    "            download_element.click()\n",
    "            counter += 1\n",
    "            # sleep(3)\n"
   ]
  },
  {
   "cell_type": "markdown",
   "metadata": {},
   "source": [
    "Read Excel Sheets"
   ]
  },
  {
   "cell_type": "code",
   "execution_count": null,
   "metadata": {},
   "outputs": [],
   "source": [
    "a = 0\n",
    "b = 0\n",
    "wb = xlrd.open_workbook(r\"C:\\Users\\shiva\\Downloads\\Book1.xls\")\n",
    "sheet = wb.sheet_by_index(0)\n",
    "sheet.cell_value(0, 0)\n",
    "\n",
    "for x in range(sheet.ncols):\n",
    "    column_name = sheet.cell_value(0, x)\n",
    "    if (column_name.lower()).find(\"email\") != -1 and a == 0:\n",
    "        email_column = x\n",
    "        a = 1\n",
    "    if (column_name.lower()).find(\"name\") != -1 and b == 0:\n",
    "        name_column = x\n",
    "        b = 1\n"
   ]
  },
  {
   "cell_type": "markdown",
   "metadata": {},
   "source": [
    "Send Emails"
   ]
  },
  {
   "cell_type": "code",
   "execution_count": null,
   "metadata": {},
   "outputs": [],
   "source": [
    "with smtplib.SMTP(\"smtp.gmail.com\") as connection:\n",
    "    connection.starttls()\n",
    "    connection.login(user=email_address, password=email_password)\n",
    "\n",
    "    for i in range(1, sheet.nrows):\n",
    "        to_email_address = sheet.cell_value(i, email_column)\n",
    "        company_name = (sheet.cell_value(i, name_column)).title()\n",
    "\n",
    "        connection.sendmail(\n",
    "            from_addr=email_address,\n",
    "            to_addrs=to_email_address,\n",
    "            msg=\"Subject:\"\n",
    "            + subject\n",
    "            + \"\\n\\n\"\n",
    "            + \"Hi! hope you are having a wonderful day at \"\n",
    "            + company_name\n",
    "            + \",\\n\"\n",
    "            + message,\n",
    "        )\n",
    "        print(f\"{str(i)}. Email sent to {company_name} successfully\")\n",
    "        sleep(delay)\n"
   ]
  },
  {
   "cell_type": "markdown",
   "metadata": {},
   "source": [
    "Quit Webdriver"
   ]
  },
  {
   "cell_type": "code",
   "execution_count": 11,
   "metadata": {},
   "outputs": [],
   "source": [
    "driver.quit()\n"
   ]
  }
 ],
 "metadata": {
  "kernelspec": {
   "display_name": "Python 3.10.5 ('venv_cold_emailing_bot': venv)",
   "language": "python",
   "name": "python3"
  },
  "language_info": {
   "codemirror_mode": {
    "name": "ipython",
    "version": 3
   },
   "file_extension": ".py",
   "mimetype": "text/x-python",
   "name": "python",
   "nbconvert_exporter": "python",
   "pygments_lexer": "ipython3",
   "version": "3.10.5"
  },
  "orig_nbformat": 4,
  "vscode": {
   "interpreter": {
    "hash": "e6ad1b4009d94e8bf50c8826c7921f15129f8fc9dd1d477821397db951ed5919"
   }
  }
 },
 "nbformat": 4,
 "nbformat_minor": 2
}
